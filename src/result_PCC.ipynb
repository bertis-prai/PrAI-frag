{
 "cells": [
  {
   "cell_type": "code",
   "execution_count": 1,
   "metadata": {},
   "outputs": [],
   "source": [
    "import os\n",
    "import pandas as pd\n",
    "import numpy as np\n",
    "\n",
    "from scipy.stats import pearsonr as PCC"
   ]
  },
  {
   "cell_type": "code",
   "execution_count": 2,
   "metadata": {},
   "outputs": [],
   "source": [
    "def get_pcc(target, pred):\n",
    "    frag_list = []\n",
    "    for i in range(1,15):\n",
    "        frag_list.append('y{}'.format(i))\n",
    "        for j in [2, 3]:\n",
    "            frag_list.append('y{}^{}'.format(i, j))\n",
    "            \n",
    "    data = []\n",
    "    \n",
    "    for i in range(len(target)):\n",
    "        seq = target.at[i, 'Peptide']\n",
    "        charge = target.at[i, 'Charge']\n",
    "        targ = target.loc[i, frag_list]\n",
    "        ions = list(targ[targ >= 0].index)\n",
    "        if len(ions) < 2:\n",
    "            continue\n",
    "        \n",
    "        t = target.loc[i, ions]\n",
    "        p = pred.loc[i, ions]\n",
    "        pcc = pearsonr(t, p)[0]\n",
    "        \n",
    "        data.append([seq, charge, pcc])\n",
    "        \n",
    "    df = pd.DataFrame(data, columns=['Peptide', 'Charge', 'Pcc'])\n",
    "    return df"
   ]
  },
  {
   "cell_type": "code",
   "execution_count": null,
   "metadata": {},
   "outputs": [],
   "source": [
    "''' \n",
    "Read target data & predction data\n",
    "    - The order of the target data and thr prediction data\n",
    "      should be same.\n",
    "'''\n",
    "# target = pd.read_csv(\"../\")\n",
    "# pred = pd.read_csv(\"../\")"
   ]
  },
  {
   "cell_type": "code",
   "execution_count": null,
   "metadata": {},
   "outputs": [],
   "source": [
    "'''\n",
    "Calculte PCC and create table\n",
    "'''\n",
    "# get_pcc(target, pred)"
   ]
  }
 ],
 "metadata": {
  "kernelspec": {
   "display_name": "bertis",
   "language": "python",
   "name": "bertis"
  },
  "language_info": {
   "codemirror_mode": {
    "name": "ipython",
    "version": 3
   },
   "file_extension": ".py",
   "mimetype": "text/x-python",
   "name": "python",
   "nbconvert_exporter": "python",
   "pygments_lexer": "ipython3",
   "version": "3.8.3"
  }
 },
 "nbformat": 4,
 "nbformat_minor": 4
}
